{
 "cells": [
  {
   "cell_type": "code",
   "execution_count": 1,
   "metadata": {},
   "outputs": [
    {
     "data": {
      "text/html": [
       "<script type=\"text/javascript\">window.PlotlyConfig = {MathJaxConfig: 'local'};</script><script type=\"text/javascript\">if (window.MathJax) {MathJax.Hub.Config({SVG: {font: \"STIX-Web\"}});}</script><script>requirejs.config({paths: { 'plotly': ['https://cdn.plot.ly/plotly-latest.min']},});if(!window._Plotly) {require(['plotly'],function(plotly) {window._Plotly=plotly;});}</script>"
      ],
      "text/vnd.plotly.v1+html": [
       "<script type=\"text/javascript\">window.PlotlyConfig = {MathJaxConfig: 'local'};</script><script type=\"text/javascript\">if (window.MathJax) {MathJax.Hub.Config({SVG: {font: \"STIX-Web\"}});}</script><script>requirejs.config({paths: { 'plotly': ['https://cdn.plot.ly/plotly-latest.min']},});if(!window._Plotly) {require(['plotly'],function(plotly) {window._Plotly=plotly;});}</script>"
      ]
     },
     "metadata": {},
     "output_type": "display_data"
    }
   ],
   "source": [
    "from plotly.offline import iplot, init_notebook_mode\n",
    "import plotly.graph_objs as go\n",
    "import plotly.io as pio\n",
    "\n",
    "import os\n",
    "import numpy as np\n",
    "init_notebook_mode(connected=True)\n",
    "import pandas as pd\n",
    "\n",
    "import plotly.plotly as py"
   ]
  },
  {
   "cell_type": "code",
   "execution_count": 2,
   "metadata": {
    "collapsed": true
   },
   "outputs": [],
   "source": [
    "def getScatter(fg, df, label, metric, line):\n",
    "    ll = df[df[\"Labels\"]==label]\n",
    "    ll.sort_values(by=[\"NumThreads\"])\n",
    "    return fg.add_scatter(\n",
    "        x=ll[\"NumThreads\"],\n",
    "        y=ll[metric],\n",
    "        name=label, line={\"dash\": line})"
   ]
  },
  {
   "cell_type": "code",
   "execution_count": 3,
   "metadata": {
    "collapsed": true
   },
   "outputs": [],
   "source": [
    "def plot_chart(filename, metric, line=\"solid\", fig=None):\n",
    "    df = pd.read_csv(filename)\n",
    "    # columns are \n",
    "    df[\"Labels\"] = [ x.split('_', 6)[-1] for x in df['Labels']]\n",
    "    df[metric] = df[metric] / 1000.0\n",
    "\n",
    "    if fig is None:\n",
    "        layout = go.Layout(\n",
    "            xaxis = go.layout.XAxis(\n",
    "            dtick = 4.0,\n",
    "            title = \"NumThreads\"\n",
    "            ),\n",
    "           yaxis = go.layout.YAxis(\n",
    "            dtick = 2.0,\n",
    "            title = \"Latency miliseconds\"\n",
    "            ),    \n",
    "            showlegend = True,\n",
    "            title = metric +\" Latency vs Numthreads\"\n",
    "        )\n",
    "        fig = go.Figure(layout=layout)\n",
    "        \n",
    "    scatters = {}\n",
    "    for label in df[\"Labels\"].unique():\n",
    "        scatters[label] = getScatter(fig, df, label, metric, line)\n",
    "            \n",
    "    #iplot(fig)\n",
    "    return fig, scatters\n",
    "    "
   ]
  },
  {
   "cell_type": "code",
   "execution_count": 4,
   "metadata": {
    "collapsed": true
   },
   "outputs": [],
   "source": [
    "fg, sd = plot_chart(\"~/tmp/perdata.csv\", \"p50\", \"dot\")"
   ]
  },
  {
   "cell_type": "code",
   "execution_count": 5,
   "metadata": {},
   "outputs": [
    {
     "data": {
      "application/vnd.plotly.v1+json": {
       "config": {
        "linkText": "Export to plot.ly",
        "plotlyServerURL": "https://plot.ly",
        "showLink": false
       },
       "data": [
        {
         "line": {
          "dash": "dot"
         },
         "name": "nomixal_both",
         "type": "scatter",
         "uid": "1a588c92-edd4-4e5a-9fca-4fc9f6e00551",
         "x": [
          64
         ],
         "y": [
          7.088
         ]
        },
        {
         "line": {
          "dash": "dot"
         },
         "name": "nomixal_serveronly",
         "type": "scatter",
         "uid": "e1a30390-d842-4596-9d2c-d3a59e3a7d8b",
         "x": [
          64
         ],
         "y": [
          4.027
         ]
        },
        {
         "line": {
          "dash": "dot"
         },
         "name": "nomix_both",
         "type": "scatter",
         "uid": "dde61811-0b4e-4c46-b1bb-2c18994ef30f",
         "x": [
          64
         ],
         "y": [
          6.792
         ]
        },
        {
         "line": {
          "dash": "dot"
         },
         "name": "nomix_serveronly",
         "type": "scatter",
         "uid": "67661bac-7ce4-4211-9c17-54cbd5ffe048",
         "x": [
          64
         ],
         "y": [
          3.634
         ]
        },
        {
         "line": {
          "dash": "dot"
         },
         "name": "both",
         "type": "scatter",
         "uid": "d3db38da-aaa1-44d6-8e42-17fcf344d640",
         "x": [
          64,
          64,
          64,
          64,
          16,
          16
         ],
         "y": [
          15.525,
          14.451,
          15.015,
          14.867,
          3.804,
          4.346
         ]
        },
        {
         "line": {
          "dash": "dot"
         },
         "name": "serveronly",
         "type": "scatter",
         "uid": "e59b2b4b-812e-4388-89ce-b9f3b8e72806",
         "x": [
          64,
          64,
          64,
          64,
          16,
          16
         ],
         "y": [
          5.761,
          6.621,
          5.591,
          6.336,
          1.834,
          2.095
         ]
        },
        {
         "line": {
          "dash": "dot"
         },
         "name": "base",
         "type": "scatter",
         "uid": "509dac81-999b-4caa-9131-9902d32fe7ae",
         "x": [
          64,
          64,
          16,
          16
         ],
         "y": [
          1.183,
          1.423,
          0.588,
          0.735
         ]
        }
       ],
       "layout": {
        "showlegend": true,
        "title": {
         "text": "p50 Latency vs Numthreads"
        },
        "xaxis": {
         "dtick": 4,
         "title": {
          "text": "NumThreads"
         }
        },
        "yaxis": {
         "dtick": 2,
         "title": {
          "text": "Latency miliseconds"
         }
        }
       }
      },
      "text/html": [
       "<div id=\"186124f3-b079-4f0b-a741-4c49105d2b26\" style=\"height: 525px; width: 100%;\" class=\"plotly-graph-div\"></div><script type=\"text/javascript\">require([\"plotly\"], function(Plotly) { window.PLOTLYENV=window.PLOTLYENV || {};window.PLOTLYENV.BASE_URL=\"https://plot.ly\";\n",
       "if (document.getElementById(\"186124f3-b079-4f0b-a741-4c49105d2b26\")) {\n",
       "    Plotly.newPlot(\"186124f3-b079-4f0b-a741-4c49105d2b26\", [{\"name\": \"nomixal_both\", \"y\": [7.088], \"x\": [64], \"line\": {\"dash\": \"dot\"}, \"type\": \"scatter\", \"uid\": \"1a588c92-edd4-4e5a-9fca-4fc9f6e00551\"}, {\"name\": \"nomixal_serveronly\", \"y\": [4.027], \"x\": [64], \"line\": {\"dash\": \"dot\"}, \"type\": \"scatter\", \"uid\": \"e1a30390-d842-4596-9d2c-d3a59e3a7d8b\"}, {\"name\": \"nomix_both\", \"y\": [6.792], \"x\": [64], \"line\": {\"dash\": \"dot\"}, \"type\": \"scatter\", \"uid\": \"dde61811-0b4e-4c46-b1bb-2c18994ef30f\"}, {\"name\": \"nomix_serveronly\", \"y\": [3.634], \"x\": [64], \"line\": {\"dash\": \"dot\"}, \"type\": \"scatter\", \"uid\": \"67661bac-7ce4-4211-9c17-54cbd5ffe048\"}, {\"name\": \"both\", \"y\": [15.525, 14.451, 15.015, 14.867, 3.804, 4.346], \"x\": [64, 64, 64, 64, 16, 16], \"line\": {\"dash\": \"dot\"}, \"type\": \"scatter\", \"uid\": \"d3db38da-aaa1-44d6-8e42-17fcf344d640\"}, {\"name\": \"serveronly\", \"y\": [5.761, 6.621, 5.591, 6.336, 1.834, 2.095], \"x\": [64, 64, 64, 64, 16, 16], \"line\": {\"dash\": \"dot\"}, \"type\": \"scatter\", \"uid\": \"e59b2b4b-812e-4388-89ce-b9f3b8e72806\"}, {\"name\": \"base\", \"y\": [1.183, 1.423, 0.588, 0.735], \"x\": [64, 64, 16, 16], \"line\": {\"dash\": \"dot\"}, \"type\": \"scatter\", \"uid\": \"509dac81-999b-4caa-9131-9902d32fe7ae\"}], {\"showlegend\": true, \"title\": {\"text\": \"p50 Latency vs Numthreads\"}, \"xaxis\": {\"dtick\": 4.0, \"title\": {\"text\": \"NumThreads\"}}, \"yaxis\": {\"dtick\": 2.0, \"title\": {\"text\": \"Latency miliseconds\"}}}, {\"plotlyServerURL\": \"https://plot.ly\", \"linkText\": \"Export to plot.ly\", \"showLink\": false}); \n",
       "}\n",
       "});</script><script type=\"text/javascript\">window.addEventListener(\"resize\", function(){if (document.getElementById(\"186124f3-b079-4f0b-a741-4c49105d2b26\")) {window._Plotly.Plots.resize(document.getElementById(\"186124f3-b079-4f0b-a741-4c49105d2b26\"));};})</script>"
      ],
      "text/vnd.plotly.v1+html": [
       "<div id=\"186124f3-b079-4f0b-a741-4c49105d2b26\" style=\"height: 525px; width: 100%;\" class=\"plotly-graph-div\"></div><script type=\"text/javascript\">require([\"plotly\"], function(Plotly) { window.PLOTLYENV=window.PLOTLYENV || {};window.PLOTLYENV.BASE_URL=\"https://plot.ly\";\n",
       "if (document.getElementById(\"186124f3-b079-4f0b-a741-4c49105d2b26\")) {\n",
       "    Plotly.newPlot(\"186124f3-b079-4f0b-a741-4c49105d2b26\", [{\"name\": \"nomixal_both\", \"y\": [7.088], \"x\": [64], \"line\": {\"dash\": \"dot\"}, \"type\": \"scatter\", \"uid\": \"1a588c92-edd4-4e5a-9fca-4fc9f6e00551\"}, {\"name\": \"nomixal_serveronly\", \"y\": [4.027], \"x\": [64], \"line\": {\"dash\": \"dot\"}, \"type\": \"scatter\", \"uid\": \"e1a30390-d842-4596-9d2c-d3a59e3a7d8b\"}, {\"name\": \"nomix_both\", \"y\": [6.792], \"x\": [64], \"line\": {\"dash\": \"dot\"}, \"type\": \"scatter\", \"uid\": \"dde61811-0b4e-4c46-b1bb-2c18994ef30f\"}, {\"name\": \"nomix_serveronly\", \"y\": [3.634], \"x\": [64], \"line\": {\"dash\": \"dot\"}, \"type\": \"scatter\", \"uid\": \"67661bac-7ce4-4211-9c17-54cbd5ffe048\"}, {\"name\": \"both\", \"y\": [15.525, 14.451, 15.015, 14.867, 3.804, 4.346], \"x\": [64, 64, 64, 64, 16, 16], \"line\": {\"dash\": \"dot\"}, \"type\": \"scatter\", \"uid\": \"d3db38da-aaa1-44d6-8e42-17fcf344d640\"}, {\"name\": \"serveronly\", \"y\": [5.761, 6.621, 5.591, 6.336, 1.834, 2.095], \"x\": [64, 64, 64, 64, 16, 16], \"line\": {\"dash\": \"dot\"}, \"type\": \"scatter\", \"uid\": \"e59b2b4b-812e-4388-89ce-b9f3b8e72806\"}, {\"name\": \"base\", \"y\": [1.183, 1.423, 0.588, 0.735], \"x\": [64, 64, 16, 16], \"line\": {\"dash\": \"dot\"}, \"type\": \"scatter\", \"uid\": \"509dac81-999b-4caa-9131-9902d32fe7ae\"}], {\"showlegend\": true, \"title\": {\"text\": \"p50 Latency vs Numthreads\"}, \"xaxis\": {\"dtick\": 4.0, \"title\": {\"text\": \"NumThreads\"}}, \"yaxis\": {\"dtick\": 2.0, \"title\": {\"text\": \"Latency miliseconds\"}}}, {\"plotlyServerURL\": \"https://plot.ly\", \"linkText\": \"Export to plot.ly\", \"showLink\": false}); \n",
       "}\n",
       "});</script><script type=\"text/javascript\">window.addEventListener(\"resize\", function(){if (document.getElementById(\"186124f3-b079-4f0b-a741-4c49105d2b26\")) {window._Plotly.Plots.resize(document.getElementById(\"186124f3-b079-4f0b-a741-4c49105d2b26\"));};})</script>"
      ]
     },
     "metadata": {},
     "output_type": "display_data"
    }
   ],
   "source": [
    "iplot(fg)"
   ]
  },
  {
   "cell_type": "code",
   "execution_count": null,
   "metadata": {
    "collapsed": true
   },
   "outputs": [],
   "source": []
  }
 ],
 "metadata": {
  "kernelspec": {
   "display_name": "Python 3",
   "language": "python",
   "name": "python3"
  },
  "language_info": {
   "codemirror_mode": {
    "name": "ipython",
    "version": 3
   },
   "file_extension": ".py",
   "mimetype": "text/x-python",
   "name": "python",
   "nbconvert_exporter": "python",
   "pygments_lexer": "ipython3",
   "version": "3.7.3"
  }
 },
 "nbformat": 4,
 "nbformat_minor": 2
}
